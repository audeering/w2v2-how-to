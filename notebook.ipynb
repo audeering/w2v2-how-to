{
 "cells": [
  {
   "cell_type": "code",
   "execution_count": 1,
   "id": "5fa18d66",
   "metadata": {},
   "outputs": [
    {
     "name": "stderr",
     "output_type": "stream",
     "text": [
      "                                                                                                    \r"
     ]
    },
    {
     "data": {
      "text/plain": [
       "['model.onnx', 'model.yaml']"
      ]
     },
     "execution_count": 1,
     "metadata": {},
     "output_type": "execute_result"
    }
   ],
   "source": [
    "import os\n",
    "\n",
    "import audeer\n",
    "\n",
    "src_url = '...'\n",
    "dst_path = 'model.zip'\n",
    "model_root = 'model'\n",
    "\n",
    "# audeer.download_url(src_url, dst_path, verbose=True)\n",
    "audeer.extract_archive(dst_path, model_root, verbose=True)"
   ]
  },
  {
   "cell_type": "code",
   "execution_count": 2,
   "id": "f0b1a074",
   "metadata": {},
   "outputs": [
    {
     "data": {
      "text/plain": [
       "Input:\n",
       "  signal:\n",
       "    shape: [1, -1]\n",
       "    dtype: tensor(float)\n",
       "    transform: None\n",
       "Output:\n",
       "  hidden_states:\n",
       "    shape: [1, 1024]\n",
       "    dtype: tensor(float)\n",
       "    labels: [hidden_states-0, hidden_states-1, hidden_states-2, (...), hidden_states-1021,\n",
       "      hidden_states-1022, hidden_states-1023]\n",
       "  logits:\n",
       "    shape: [1, 3]\n",
       "    dtype: tensor(float)\n",
       "    labels: [arousal, dominance, valence]"
      ]
     },
     "execution_count": 2,
     "metadata": {},
     "output_type": "execute_result"
    }
   ],
   "source": [
    "import audonnx\n",
    "\n",
    "model = audonnx.load(model_root)\n",
    "model"
   ]
  },
  {
   "cell_type": "code",
   "execution_count": 3,
   "id": "da964c53",
   "metadata": {},
   "outputs": [
    {
     "name": "stderr",
     "output_type": "stream",
     "text": [
      "                                                                                                    \r"
     ]
    }
   ],
   "source": [
    "import gtts\n",
    "\n",
    "sentences = [\n",
    "    'Hello world',\n",
    "    'This is wonderful',\n",
    "    'This is stupid',\n",
    "]\n",
    "\n",
    "files = []\n",
    "for sentence in audeer.progress_bar(sentences, desc='Create files'):\n",
    "    file = f'{sentence}.mp3'\n",
    "    files.append(file)\n",
    "    if not os.path.exists(file):\n",
    "        tts = gtts.gTTS(sentence)\n",
    "        tts.save(file)"
   ]
  },
  {
   "cell_type": "code",
   "execution_count": 4,
   "id": "d7b884f6",
   "metadata": {},
   "outputs": [
    {
     "name": "stderr",
     "output_type": "stream",
     "text": [
      "                                                                                                    \r"
     ]
    },
    {
     "data": {
      "text/html": [
       "<div>\n",
       "<style scoped>\n",
       "    .dataframe tbody tr th:only-of-type {\n",
       "        vertical-align: middle;\n",
       "    }\n",
       "\n",
       "    .dataframe tbody tr th {\n",
       "        vertical-align: top;\n",
       "    }\n",
       "\n",
       "    .dataframe thead th {\n",
       "        text-align: right;\n",
       "    }\n",
       "</style>\n",
       "<table border=\"1\" class=\"dataframe\">\n",
       "  <thead>\n",
       "    <tr style=\"text-align: right;\">\n",
       "      <th></th>\n",
       "      <th></th>\n",
       "      <th></th>\n",
       "      <th>arousal</th>\n",
       "      <th>dominance</th>\n",
       "      <th>valence</th>\n",
       "    </tr>\n",
       "    <tr>\n",
       "      <th>file</th>\n",
       "      <th>start</th>\n",
       "      <th>end</th>\n",
       "      <th></th>\n",
       "      <th></th>\n",
       "      <th></th>\n",
       "    </tr>\n",
       "  </thead>\n",
       "  <tbody>\n",
       "    <tr>\n",
       "      <th>Hello world.mp3</th>\n",
       "      <th>0 days</th>\n",
       "      <th>0 days 00:00:01.416000</th>\n",
       "      <td>0.503116</td>\n",
       "      <td>0.579775</td>\n",
       "      <td>0.594592</td>\n",
       "    </tr>\n",
       "    <tr>\n",
       "      <th>This is wonderful.mp3</th>\n",
       "      <th>0 days</th>\n",
       "      <th>0 days 00:00:01.632000</th>\n",
       "      <td>0.547029</td>\n",
       "      <td>0.647840</td>\n",
       "      <td>0.897838</td>\n",
       "    </tr>\n",
       "    <tr>\n",
       "      <th>This is stupid.mp3</th>\n",
       "      <th>0 days</th>\n",
       "      <th>0 days 00:00:01.560000</th>\n",
       "      <td>0.552540</td>\n",
       "      <td>0.659153</td>\n",
       "      <td>-0.002927</td>\n",
       "    </tr>\n",
       "  </tbody>\n",
       "</table>\n",
       "</div>"
      ],
      "text/plain": [
       "                                                      arousal  dominance  \\\n",
       "file                  start  end                                           \n",
       "Hello world.mp3       0 days 0 days 00:00:01.416000  0.503116   0.579775   \n",
       "This is wonderful.mp3 0 days 0 days 00:00:01.632000  0.547029   0.647840   \n",
       "This is stupid.mp3    0 days 0 days 00:00:01.560000  0.552540   0.659153   \n",
       "\n",
       "                                                      valence  \n",
       "file                  start  end                               \n",
       "Hello world.mp3       0 days 0 days 00:00:01.416000  0.594592  \n",
       "This is wonderful.mp3 0 days 0 days 00:00:01.632000  0.897838  \n",
       "This is stupid.mp3    0 days 0 days 00:00:01.560000 -0.002927  "
      ]
     },
     "execution_count": 4,
     "metadata": {},
     "output_type": "execute_result"
    }
   ],
   "source": [
    "import audinterface\n",
    "\n",
    "interface = audinterface.Feature(\n",
    "    model.outputs['logits'].labels,\n",
    "    process_func=model,\n",
    "    process_func_args={\n",
    "        'output_names': 'logits',\n",
    "    },\n",
    "    sampling_rate=16000,\n",
    "    resample=True,    \n",
    "    verbose=True,\n",
    ")\n",
    "interface.process_files(files)"
   ]
  },
  {
   "cell_type": "code",
   "execution_count": null,
   "id": "4ef6e326",
   "metadata": {},
   "outputs": [],
   "source": []
  }
 ],
 "metadata": {
  "kernelspec": {
   "display_name": "Python 3 (ipykernel)",
   "language": "python",
   "name": "python3"
  },
  "language_info": {
   "codemirror_mode": {
    "name": "ipython",
    "version": 3
   },
   "file_extension": ".py",
   "mimetype": "text/x-python",
   "name": "python",
   "nbconvert_exporter": "python",
   "pygments_lexer": "ipython3",
   "version": "3.8.0"
  },
  "toc": {
   "base_numbering": 1,
   "nav_menu": {},
   "number_sections": true,
   "sideBar": true,
   "skip_h1_title": false,
   "title_cell": "Table of Contents",
   "title_sidebar": "Contents",
   "toc_cell": false,
   "toc_position": {},
   "toc_section_display": true,
   "toc_window_display": false
  }
 },
 "nbformat": 4,
 "nbformat_minor": 5
}
